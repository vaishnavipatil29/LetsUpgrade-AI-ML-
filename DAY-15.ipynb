{
 "cells": [
  {
   "cell_type": "markdown",
   "metadata": {},
   "source": [
    "# 1. Create a 3x3x3 array with random values "
   ]
  },
  {
   "cell_type": "code",
   "execution_count": 4,
   "metadata": {},
   "outputs": [
    {
     "name": "stdout",
     "output_type": "stream",
     "text": [
      "[[[6.23042070e-307 4.67296746e-307 1.69121096e-306]\n",
      "  [2.78145267e-307 1.89144519e-307 3.56022682e-307]\n",
      "  [3.11522733e-307 7.56599807e-307 8.90104239e-307]]\n",
      "\n",
      " [[1.24610383e-306 1.69118108e-306 8.06632139e-308]\n",
      "  [1.20160711e-306 1.69119330e-306 8.90098127e-307]\n",
      "  [1.95820216e-306 7.56604561e-307 8.45590539e-307]]\n",
      "\n",
      " [[1.11261298e-306 6.23054633e-307 1.42418036e-306]\n",
      "  [9.34598247e-307 9.79094970e-307 1.78019354e-306]\n",
      "  [1.69120552e-306 2.56765117e-312 5.24288001e+006]]]\n"
     ]
    }
   ],
   "source": [
    "import numpy as np\n",
    "arr = np.empty((3,3,3))\n",
    "print(arr)"
   ]
  },
  {
   "cell_type": "markdown",
   "metadata": {},
   "source": [
    "# 2.Create a 5x5 matrix with values 1,2,3,4 just below the diagonal"
   ]
  },
  {
   "cell_type": "code",
   "execution_count": 9,
   "metadata": {},
   "outputs": [
    {
     "name": "stdout",
     "output_type": "stream",
     "text": [
      "[[0. 0. 0. 0. 0.]\n",
      " [1. 0. 0. 0. 0.]\n",
      " [0. 2. 0. 0. 0.]\n",
      " [0. 0. 3. 0. 0.]\n",
      " [0. 0. 0. 4. 0.]]\n"
     ]
    }
   ],
   "source": [
    "import numpy as np\n",
    "arr = np.zeros((5,5))\n",
    "arr[1][0]=1\n",
    "arr[2][1]=2\n",
    "arr[3][2]=3\n",
    "arr[4][3]=4\n",
    "print(arr)"
   ]
  },
  {
   "cell_type": "markdown",
   "metadata": {},
   "source": [
    "# 3.Create a 8x8 matrix and fill it with a checkerboard pattern"
   ]
  },
  {
   "cell_type": "code",
   "execution_count": 18,
   "metadata": {},
   "outputs": [
    {
     "name": "stdout",
     "output_type": "stream",
     "text": [
      "[[0. 1. 0. 1. 0. 1. 0. 1.]\n",
      " [1. 0. 1. 0. 1. 0. 1. 0.]\n",
      " [0. 1. 0. 1. 0. 1. 0. 1.]\n",
      " [1. 0. 1. 0. 1. 0. 1. 0.]\n",
      " [0. 1. 0. 1. 0. 1. 0. 1.]\n",
      " [1. 0. 1. 0. 1. 0. 1. 0.]\n",
      " [0. 1. 0. 1. 0. 1. 0. 1.]\n",
      " [1. 0. 1. 0. 1. 0. 1. 0.]]\n"
     ]
    }
   ],
   "source": [
    "import numpy as np\n",
    "arr = np.zeros((8,8))\n",
    "i=0\n",
    "arr[1::2,::2]=1\n",
    "arr[::2,1::2]=1\n",
    "print(arr)"
   ]
  },
  {
   "cell_type": "markdown",
   "metadata": {},
   "source": [
    "# 4. Normalize a 5x5 random matrix"
   ]
  },
  {
   "cell_type": "code",
   "execution_count": 34,
   "metadata": {},
   "outputs": [
    {
     "name": "stdout",
     "output_type": "stream",
     "text": [
      "Array:  [[0.29889822 0.48795212 0.76274236 0.98015559 0.71331386]\n",
      " [0.47447715 0.14481102 0.64583511 0.25634468 0.73777235]\n",
      " [0.25965413 0.52863618 0.19251056 0.65601227 0.04818501]\n",
      " [0.36312987 0.89993983 0.9002989  0.41412137 0.63619235]\n",
      " [0.81879362 0.53252872 0.58858274 0.74878561 0.26765512]]\n",
      "Normalized Array: [[0.10116255 0.16514812 0.25815129 0.33173512 0.24142214]\n",
      " [0.1605875  0.04901151 0.21858386 0.08676024 0.24970015]\n",
      " [0.08788033 0.17891771 0.06515549 0.22202833 0.01630829]\n",
      " [0.12290185 0.30458598 0.30470751 0.14016    0.21532025]\n",
      " [0.27712192 0.18023514 0.19920671 0.25342761 0.09058828]]\n"
     ]
    }
   ],
   "source": [
    "import numpy as np\n",
    "a = np.random.rand(5,5)\n",
    "print(\"Array: \",a)\n",
    "norm = np.linalg.norm(a)\n",
    "norm_arr=a/norm\n",
    "print(\"Normalized Array:\",norm_arr)"
   ]
  },
  {
   "cell_type": "markdown",
   "metadata": {},
   "source": [
    "# 5.  How to find common values between two arrays?"
   ]
  },
  {
   "cell_type": "code",
   "execution_count": 25,
   "metadata": {},
   "outputs": [
    {
     "name": "stdout",
     "output_type": "stream",
     "text": [
      "[2 3]\n"
     ]
    }
   ],
   "source": [
    "arr1 = [1,2,3]\n",
    "arr2=[2,3,5]\n",
    "print(np.intersect1d(arr1,arr2))"
   ]
  },
  {
   "cell_type": "markdown",
   "metadata": {},
   "source": [
    "# 6.How to get the dates of yesterday, today and tomorrow?"
   ]
  },
  {
   "cell_type": "code",
   "execution_count": 29,
   "metadata": {},
   "outputs": [
    {
     "name": "stdout",
     "output_type": "stream",
     "text": [
      "2020-07-24\n",
      "2020-07-25\n",
      "2020-07-26\n"
     ]
    }
   ],
   "source": [
    "import datetime\n",
    "today=datetime.date.today()\n",
    "yesterday=today - datetime.timedelta(days=1)\n",
    "tomorrow = today+datetime.timedelta(days=1)\n",
    "\n",
    "print(yesterday)\n",
    "print(today)\n",
    "print(tomorrow)"
   ]
  },
  {
   "cell_type": "markdown",
   "metadata": {},
   "source": [
    "# 7. Consider two random array A and B, check if they are equal"
   ]
  },
  {
   "cell_type": "code",
   "execution_count": 41,
   "metadata": {},
   "outputs": [
    {
     "name": "stdout",
     "output_type": "stream",
     "text": [
      "a: [[0.31401214 0.17584824]\n",
      " [0.85540669 0.60191191]]\n",
      "b: [[0.01186887 0.16603074]\n",
      " [0.51519702 0.56939143]]\n",
      "They are not equal\n"
     ]
    }
   ],
   "source": [
    "a=np.random.rand(2,2)\n",
    "b=np.random.rand(2,2)\n",
    "print(\"a:\",a)\n",
    "print(\"b:\",b)\n",
    "if (a==b).all():\n",
    "    print(\"They are equal\")\n",
    "else:\n",
    "    print(\"They are not equal\")"
   ]
  },
  {
   "cell_type": "markdown",
   "metadata": {},
   "source": [
    "# 8.Create random vector of size 10 and replace the maximum value by 0 "
   ]
  },
  {
   "cell_type": "code",
   "execution_count": 47,
   "metadata": {},
   "outputs": [
    {
     "name": "stdout",
     "output_type": "stream",
     "text": [
      "[0.8237422  0.85822132 0.4471158  0.57473365 0.63925567 0.42243541\n",
      " 0.41775157 0.56700411 0.8269108  0.91328795]\n",
      "[0.8237422  0.85822132 0.4471158  0.57473365 0.63925567 0.42243541\n",
      " 0.41775157 0.56700411 0.8269108  0.        ]\n"
     ]
    }
   ],
   "source": [
    "v=np.random.rand(10)\n",
    "print(v)\n",
    "max_no = np.where(v==v.max())\n",
    "v[max_no]=0\n",
    "print(v)\n"
   ]
  },
  {
   "cell_type": "markdown",
   "metadata": {},
   "source": [
    "# 9. How to print all the values of an array?"
   ]
  },
  {
   "cell_type": "code",
   "execution_count": 51,
   "metadata": {},
   "outputs": [
    {
     "name": "stdout",
     "output_type": "stream",
     "text": [
      "[[ 1  2  3]\n",
      " [12 23 45]]\n"
     ]
    }
   ],
   "source": [
    "arr = np.array([[1,2,3],[12,23,45]])\n",
    "print(arr)"
   ]
  },
  {
   "cell_type": "markdown",
   "metadata": {},
   "source": [
    "# 10.Subtract the mean of each row of a matrix"
   ]
  },
  {
   "cell_type": "code",
   "execution_count": 59,
   "metadata": {},
   "outputs": [
    {
     "name": "stdout",
     "output_type": "stream",
     "text": [
      "[[0.44150776 0.68271297 0.46632265]\n",
      " [0.68133967 0.18158555 0.80151453]]\n",
      "[[-0.08867337  0.15253185 -0.06385848]\n",
      " [ 0.12652642 -0.3732277   0.24670128]]\n"
     ]
    }
   ],
   "source": [
    "mat = np.random.rand(2,3)\n",
    "print(mat)\n",
    "new_mat = mat -  mat.mean(axis=1,keepdims=True)\n",
    "print(new_mat)\n"
   ]
  },
  {
   "cell_type": "markdown",
   "metadata": {},
   "source": [
    "# 11.Consider a given vector, how to add 1 to each element indexed by a second vector (be careful with repeated indices)? "
   ]
  },
  {
   "cell_type": "code",
   "execution_count": 4,
   "metadata": {},
   "outputs": [
    {
     "name": "stdout",
     "output_type": "stream",
     "text": [
      "[2 3 6 7 8]\n"
     ]
    }
   ],
   "source": [
    "def repeated(v):\n",
    "    dup_items = set()\n",
    "    uniq_items = []\n",
    "    for x in v:\n",
    "        if x not in dup_items:\n",
    "            uniq_items.append(x)\n",
    "            dup_items.add(x)\n",
    "    return uniq_items\n",
    "    \n",
    "import numpy as np\n",
    "v=np.array([1,2,5,7,8])\n",
    "index = np.array([1,1,2,0])\n",
    "new_index=repeated(index)\n",
    "for a in new_index:\n",
    "    v[a]=v[a]+1\n",
    "print(v)\n"
   ]
  },
  {
   "cell_type": "markdown",
   "metadata": {},
   "source": [
    "# 12.How to get the diagonal of a dot product?"
   ]
  },
  {
   "cell_type": "code",
   "execution_count": 9,
   "metadata": {},
   "outputs": [
    {
     "name": "stdout",
     "output_type": "stream",
     "text": [
      "[45 55]\n"
     ]
    }
   ],
   "source": [
    "a=np.array([[1,2,3],[2,5,4]])\n",
    "b=np.array([[2,3],[8,5],[9,6]])\n",
    "c=a.dot(b)\n",
    "print(np.diagonal(c))"
   ]
  },
  {
   "cell_type": "markdown",
   "metadata": {},
   "source": [
    "# 13.How to find the most frequent value in an array?"
   ]
  },
  {
   "cell_type": "code",
   "execution_count": 42,
   "metadata": {},
   "outputs": [
    {
     "name": "stdout",
     "output_type": "stream",
     "text": [
      "2\n"
     ]
    }
   ],
   "source": [
    "import numpy as np\n",
    "from scipy import stats\n",
    "\n",
    "a = np.array([1, 3, 4, 2, 2, 2])\n",
    "\n",
    "bin = np.bincount(a)\n",
    "print(bin.argmax())"
   ]
  },
  {
   "cell_type": "markdown",
   "metadata": {},
   "source": [
    "# 14.How to get the n largest values of an array"
   ]
  },
  {
   "cell_type": "code",
   "execution_count": 56,
   "metadata": {},
   "outputs": [
    {
     "name": "stdout",
     "output_type": "stream",
     "text": [
      "[2 3 4]\n"
     ]
    }
   ],
   "source": [
    "a = np.array([1, 3, 4, 2, 2,2])\n",
    "n=3\n",
    "v=a[np.argsort(a)]\n",
    "print(v[-n:])\n",
    "        "
   ]
  },
  {
   "cell_type": "markdown",
   "metadata": {},
   "source": [
    "# 15.How to create a record array from a regular array?"
   ]
  },
  {
   "cell_type": "code",
   "execution_count": 62,
   "metadata": {},
   "outputs": [
    {
     "name": "stdout",
     "output_type": "stream",
     "text": [
      "Original arrays:\n",
      "[['VAISHNAVI' '20' '90']\n",
      " ['VARAD' '17' '99']\n",
      " ['ANJALI' '48' '91']]\n",
      "\n",
      "Record array;\n",
      "[('VAISHNAVI', '20', '90') ('VARAD', '17', '99') ('ANJALI', '48', '91')]\n"
     ]
    }
   ],
   "source": [
    "import numpy as np\n",
    "arra1 = np.array([(\"VAISHNAVI\", 20, 90),\n",
    "                 (\"VARAD\", 17, 99),\n",
    "             (\"ANJALI\", 48, 91)])\n",
    "print(\"Original arrays:\")\n",
    "print(arra1)\n",
    "print(\"\\nRecord array;\")\n",
    "result = np.core.records.fromarrays(arra1.T,\n",
    "                              names='NAME, AGE, MARKS')\n",
    "print(result)"
   ]
  }
 ],
 "metadata": {
  "kernelspec": {
   "display_name": "Python 3",
   "language": "python",
   "name": "python3"
  },
  "language_info": {
   "codemirror_mode": {
    "name": "ipython",
    "version": 3
   },
   "file_extension": ".py",
   "mimetype": "text/x-python",
   "name": "python",
   "nbconvert_exporter": "python",
   "pygments_lexer": "ipython3",
   "version": "3.7.6"
  }
 },
 "nbformat": 4,
 "nbformat_minor": 2
}

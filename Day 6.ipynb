{
 "cells": [
  {
   "cell_type": "code",
   "execution_count": 4,
   "metadata": {},
   "outputs": [],
   "source": [
    "import os\n",
    "os.chdir(\"C:/Users/VAISHNAVI PATIL/Desktop/Assignments-ML\")"
   ]
  },
  {
   "cell_type": "code",
   "execution_count": 1,
   "metadata": {},
   "outputs": [
    {
     "name": "stdout",
     "output_type": "stream",
     "text": [
      "john@google.com\n",
      "google"
     ]
    }
   ],
   "source": [
    "#Q1)\n",
    "mail_id = input()\n",
    "i=0\n",
    "while mail_id[i]!='@':\n",
    "    i=i+1\n",
    "i=i+1\n",
    "while mail_id[i]!='.':\n",
    "    print(mail_id[i],end='')\n",
    "    i=i+1\n"
   ]
  },
  {
   "cell_type": "code",
   "execution_count": 4,
   "metadata": {},
   "outputs": [
    {
     "name": "stdout",
     "output_type": "stream",
     "text": [
      "without,hello,bag,world\n",
      "bag,hello,without,world\n"
     ]
    }
   ],
   "source": [
    "#Q2)\n",
    "words=[x for x in input().split(',')]\n",
    "words.sort()\n",
    "print(','.join(words))"
   ]
  },
  {
   "cell_type": "markdown",
   "metadata": {},
   "source": [
    "# Q3) Jupyter NB for Sets-\n",
    "   \n",
    "   In python, Sets is an unordered, unindexed collection of data, enclosed with curly brackets.\n",
    "\n",
    "\n"
   ]
  },
  {
   "cell_type": "code",
   "execution_count": 38,
   "metadata": {},
   "outputs": [
    {
     "name": "stdout",
     "output_type": "stream",
     "text": [
      "{1, 2, 3, 'Vaishnavi', 30.5}\n"
     ]
    }
   ],
   "source": [
    "#Creating and printing a set\n",
    "set1 = {1, 2, 3, \"Vaishnavi\", 30.5}\n",
    "print(set1)\n",
    " "
   ]
  },
  {
   "cell_type": "code",
   "execution_count": 7,
   "metadata": {},
   "outputs": [
    {
     "name": "stdout",
     "output_type": "stream",
     "text": [
      "1\n",
      "2\n",
      "3\n",
      "Vaishnavi\n",
      "30.5\n"
     ]
    }
   ],
   "source": [
    "#traversing through set\n",
    "for i in set1:\n",
    "    print(i)"
   ]
  },
  {
   "cell_type": "code",
   "execution_count": 9,
   "metadata": {},
   "outputs": [
    {
     "name": "stdout",
     "output_type": "stream",
     "text": [
      "True\n"
     ]
    }
   ],
   "source": [
    "print(1 in set1) # check if an element is present or not"
   ]
  },
  {
   "cell_type": "markdown",
   "metadata": {},
   "source": [
    "## Editing the set\n",
    "Once the set is created, we can not change the elements, but we can add elements to it."
   ]
  },
  {
   "cell_type": "code",
   "execution_count": 39,
   "metadata": {},
   "outputs": [
    {
     "name": "stdout",
     "output_type": "stream",
     "text": [
      "{1, 2, 3, 'new', 'Vaishnavi', 30.5}\n",
      "{1, 2, 3, 'new2', 'new4', 'new3', 'new', 'Vaishnavi', 30.5}\n"
     ]
    }
   ],
   "source": [
    "# for adding only 1 element\n",
    "set1.add(\"new\") #order can be different\n",
    "print(set1)\n",
    "#for adding more than 1 elements\n",
    "set1.update([\"new2\",\"new3\",\"new4\"])  #order can be different\n",
    "print(set1)"
   ]
  },
  {
   "cell_type": "markdown",
   "metadata": {},
   "source": [
    "### Methods"
   ]
  },
  {
   "cell_type": "code",
   "execution_count": 40,
   "metadata": {},
   "outputs": [
    {
     "name": "stdout",
     "output_type": "stream",
     "text": [
      "length= 9\n",
      "{1, 2, 3, 'new2', 'new3', 'new', 'Vaishnavi', 30.5}\n",
      "{1, 2, 3, 'new2', 'new3', 'Vaishnavi', 30.5}\n",
      "{2, 3, 'new2', 'new3', 'Vaishnavi', 30.5}\n",
      "set()\n"
     ]
    },
    {
     "ename": "NameError",
     "evalue": "name 'set1' is not defined",
     "output_type": "error",
     "traceback": [
      "\u001b[1;31m---------------------------------------------------------------------------\u001b[0m",
      "\u001b[1;31mNameError\u001b[0m                                 Traceback (most recent call last)",
      "\u001b[1;32m<ipython-input-40-b3025f719143>\u001b[0m in \u001b[0;36m<module>\u001b[1;34m\u001b[0m\n\u001b[0;32m     11\u001b[0m \u001b[0mprint\u001b[0m\u001b[1;33m(\u001b[0m\u001b[0mset1\u001b[0m\u001b[1;33m)\u001b[0m\u001b[1;33m\u001b[0m\u001b[1;33m\u001b[0m\u001b[0m\n\u001b[0;32m     12\u001b[0m \u001b[1;32mdel\u001b[0m \u001b[0mset1\u001b[0m \u001b[1;31m#completely deletes\u001b[0m\u001b[1;33m\u001b[0m\u001b[1;33m\u001b[0m\u001b[0m\n\u001b[1;32m---> 13\u001b[1;33m \u001b[0mprint\u001b[0m\u001b[1;33m(\u001b[0m\u001b[0mset1\u001b[0m\u001b[1;33m)\u001b[0m\u001b[1;33m\u001b[0m\u001b[1;33m\u001b[0m\u001b[0m\n\u001b[0m",
      "\u001b[1;31mNameError\u001b[0m: name 'set1' is not defined"
     ]
    }
   ],
   "source": [
    "#1) Print length\n",
    "print(\"length=\",len(set1))\n",
    "#2)Remove elements\n",
    "set1.remove(\"new4\")\n",
    "print(set1)\n",
    "set1.discard(\"new\")\n",
    "print(set1)\n",
    "set1.pop() # removes last element\n",
    "print(set1)\n",
    "set1.clear() # clears the set\n",
    "print(set1)\n",
    "del set1 #completely deletes\n",
    "print(set1) #so, this gives error\n"
   ]
  },
  {
   "cell_type": "markdown",
   "metadata": {},
   "source": [
    "## Joining two sets\n"
   ]
  },
  {
   "cell_type": "code",
   "execution_count": 1,
   "metadata": {},
   "outputs": [
    {
     "name": "stdout",
     "output_type": "stream",
     "text": [
      "{1, 2, 3, 'banana', 'cat', 'apple'}\n"
     ]
    }
   ],
   "source": [
    "set1 = {1,2,3}\n",
    "set2={\"apple\",\"banana\",\"cat\"}\n",
    "set3 = set1.union(set2)\n",
    "print(set3)"
   ]
  },
  {
   "cell_type": "code",
   "execution_count": 10,
   "metadata": {},
   "outputs": [
    {
     "name": "stdout",
     "output_type": "stream",
     "text": [
      "1 2 4 6 3 7 8\n",
      "5.0\n"
     ]
    }
   ],
   "source": [
    "# Q4)\n",
    "def add(a,b):\n",
    "    return (a+b)\n",
    "\n",
    "#import reduce\n",
    "import functools \n",
    "from functools  import reduce\n",
    "#take input\n",
    "l = [x for x in input().split(' ')]\n",
    "#covert string into int\n",
    "for i in range(0, len(l)): \n",
    "    l[i] = int(l[i])\n",
    "#find sum    \n",
    "sums = reduce(add,l)\n",
    "#find tot sum(w/o missing number)\n",
    "n=len(l)+1\n",
    "tot = ((n+1)*(n))/2\n",
    "print(tot-sums)\n",
    "    \n",
    "    \n",
    "\n"
   ]
  },
  {
   "cell_type": "code",
   "execution_count": 11,
   "metadata": {},
   "outputs": [
    {
     "name": "stdout",
     "output_type": "stream",
     "text": [
      "12 24 35 24 88 120 155 88 120 155\n",
      "['12', '24', '35', '88', '120', '155']\n"
     ]
    }
   ],
   "source": [
    "#Q5) \n",
    "l = [x for x in input().split(' ')]\n",
    "l=list(dict.fromkeys(l))\n",
    "print(l)\n"
   ]
  },
  {
   "cell_type": "code",
   "execution_count": null,
   "metadata": {},
   "outputs": [],
   "source": []
  }
 ],
 "metadata": {
  "kernelspec": {
   "display_name": "Python 3",
   "language": "python",
   "name": "python3"
  },
  "language_info": {
   "codemirror_mode": {
    "name": "ipython",
    "version": 3
   },
   "file_extension": ".py",
   "mimetype": "text/x-python",
   "name": "python",
   "nbconvert_exporter": "python",
   "pygments_lexer": "ipython3",
   "version": "3.7.6"
  }
 },
 "nbformat": 4,
 "nbformat_minor": 4
}

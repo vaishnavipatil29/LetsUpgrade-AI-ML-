{
  "nbformat": 4,
  "nbformat_minor": 0,
  "metadata": {
    "colab": {
      "name": "Autoencoder.ipynb",
      "provenance": [],
      "collapsed_sections": [],
      "authorship_tag": "ABX9TyOfTgvy2JLVxE2a5FaKvFoh",
      "include_colab_link": true
    },
    "kernelspec": {
      "name": "python3",
      "display_name": "Python 3"
    },
    "language_info": {
      "name": "python"
    }
  },
  "cells": [
    {
      "cell_type": "markdown",
      "metadata": {
        "id": "view-in-github",
        "colab_type": "text"
      },
      "source": [
        "<a href=\"https://colab.research.google.com/github/vaishnavipatil29/LetsUpgrade-AI-ML-/blob/master/Autoencoder.ipynb\" target=\"_parent\"><img src=\"https://colab.research.google.com/assets/colab-badge.svg\" alt=\"Open In Colab\"/></a>"
      ]
    },
    {
      "cell_type": "code",
      "metadata": {
        "colab": {
          "base_uri": "https://localhost:8080/"
        },
        "id": "bwbZvgHz4WF8",
        "outputId": "c63d47b9-8d49-4c4e-f9c7-a2a7cb82c1dd"
      },
      "source": [
        "from google.colab import drive\n",
        "drive.mount(\"/content/gdrive\")"
      ],
      "execution_count": 1,
      "outputs": [
        {
          "output_type": "stream",
          "text": [
            "Mounted at /content/gdrive\n"
          ],
          "name": "stdout"
        }
      ]
    },
    {
      "cell_type": "code",
      "metadata": {
        "id": "-1euvhh25SCq"
      },
      "source": [
        "!cd /content/gdrive/MyDrive/MS_CD_SW/PartB_Telugu/Train/Audio"
      ],
      "execution_count": 2,
      "outputs": []
    },
    {
      "cell_type": "code",
      "metadata": {
        "id": "tJR4Fxxv5UCI"
      },
      "source": [
        "import numpy as np\n",
        "import soundfile as sf\n",
        "import pickle\n",
        "import cv2\n",
        "import glob"
      ],
      "execution_count": 3,
      "outputs": []
    },
    {
      "cell_type": "code",
      "metadata": {
        "id": "D38qh7KU5X7R"
      },
      "source": [
        "import pickle\n",
        "feat_file = open(\"/content/gdrive/MyDrive/MS_CD_SW/PartB_Telugu/Train/telugu_feat_1000.pkl\", \"rb\")\n",
        "tel_feat = pickle.load(feat_file)"
      ],
      "execution_count": 6,
      "outputs": []
    },
    {
      "cell_type": "code",
      "metadata": {
        "id": "eq2ccZiIFFpf"
      },
      "source": [
        "import numpy as np\n",
        "\n",
        "for i in range(0,len(tel_feat)):\n",
        "  tel_feat[i] = np.stack( tel_feat[i], axis=0 )\n",
        "\n",
        "sequence = np.array(tel_feat)"
      ],
      "execution_count": 9,
      "outputs": []
    },
    {
      "cell_type": "code",
      "metadata": {
        "colab": {
          "base_uri": "https://localhost:8080/"
        },
        "id": "d1YSYomTOfmQ",
        "outputId": "5037f581-d9e8-4d93-c639-2a69d6105b74"
      },
      "source": [
        "sequence.shape"
      ],
      "execution_count": 55,
      "outputs": [
        {
          "output_type": "execute_result",
          "data": {
            "text/plain": [
              "(24678, 19, 39)"
            ]
          },
          "metadata": {
            "tags": []
          },
          "execution_count": 55
        }
      ]
    },
    {
      "cell_type": "code",
      "metadata": {
        "colab": {
          "base_uri": "https://localhost:8080/"
        },
        "id": "Yk4I69cK27Bp",
        "outputId": "58acd0c8-5bf7-4551-93dc-c9d536214ccf"
      },
      "source": [
        "print(\"Hello\")"
      ],
      "execution_count": 1,
      "outputs": [
        {
          "output_type": "stream",
          "text": [
            "Hello\n"
          ],
          "name": "stdout"
        }
      ]
    },
    {
      "cell_type": "code",
      "metadata": {
        "id": "49R0gRRlE_yy"
      },
      "source": [
        "from numpy import array\n",
        "from keras.models import Sequential\n",
        "from keras.layers import LSTM\n",
        "from keras.layers import Dense\n",
        "from keras.layers import RepeatVector\n",
        "from keras.layers import TimeDistributed"
      ],
      "execution_count": 7,
      "outputs": []
    },
    {
      "cell_type": "code",
      "metadata": {
        "colab": {
          "base_uri": "https://localhost:8080/"
        },
        "id": "Bf5HD92SFBeA",
        "outputId": "04452373-26b2-4d9f-8a75-eb3f80e263c0"
      },
      "source": [
        "n_in = 19\n",
        "\n",
        "model = Sequential()\n",
        "model.add(LSTM(100, activation='relu', input_shape=(n_in,39)))\n",
        "model.add(RepeatVector(n_in))\n",
        "\n",
        "model.add(LSTM(100, activation='relu', return_sequences=True))\n",
        "model.add(TimeDistributed(Dense(39)))\n",
        "model.compile(optimizer='adam', loss='mse')\n",
        "# fit model\n",
        "model.fit(sequence, sequence, epochs=10, verbose=1)"
      ],
      "execution_count": 10,
      "outputs": [
        {
          "output_type": "stream",
          "text": [
            "Epoch 1/10\n",
            "772/772 [==============================] - 60s 37ms/step - loss: 131.6577\n",
            "Epoch 2/10\n",
            "772/772 [==============================] - 29s 38ms/step - loss: 59.9490\n",
            "Epoch 3/10\n",
            "772/772 [==============================] - 29s 37ms/step - loss: 51.1291\n",
            "Epoch 4/10\n",
            "772/772 [==============================] - 29s 38ms/step - loss: 45.4427\n",
            "Epoch 5/10\n",
            "772/772 [==============================] - 29s 37ms/step - loss: 41.2609\n",
            "Epoch 6/10\n",
            "772/772 [==============================] - 29s 37ms/step - loss: 37.1960\n",
            "Epoch 7/10\n",
            "772/772 [==============================] - 29s 37ms/step - loss: 37.2707\n",
            "Epoch 8/10\n",
            "772/772 [==============================] - 29s 37ms/step - loss: 34.0592\n",
            "Epoch 9/10\n",
            "772/772 [==============================] - 29s 37ms/step - loss: 31.1218\n",
            "Epoch 10/10\n",
            "772/772 [==============================] - 29s 37ms/step - loss: 29.3940\n"
          ],
          "name": "stdout"
        },
        {
          "output_type": "execute_result",
          "data": {
            "text/plain": [
              "<keras.callbacks.History at 0x7f69b641f450>"
            ]
          },
          "metadata": {
            "tags": []
          },
          "execution_count": 10
        }
      ]
    },
    {
      "cell_type": "code",
      "metadata": {
        "colab": {
          "base_uri": "https://localhost:8080/"
        },
        "id": "pcRXce2tUJWM",
        "outputId": "eca297c0-a81b-4bbf-ad21-f808b03e30a5"
      },
      "source": [
        "n_in = 19\n",
        "\n",
        "model = Sequential()\n",
        "model.add(LSTM(100, activation='relu', input_shape=(n_in,39)))\n",
        "model.add(RepeatVector(n_in))\n",
        "\n",
        "model.add(LSTM(100, activation='relu', return_sequences=True))\n",
        "model.add(TimeDistributed(Dense(39)))\n",
        "model.compile(optimizer='adam', loss='mse')\n",
        "# fit model\n",
        "model.fit(sequence, sequence, epochs=30, verbose=1)"
      ],
      "execution_count": 56,
      "outputs": [
        {
          "output_type": "stream",
          "text": [
            "Epoch 1/30\n",
            "772/772 [==============================] - 33s 37ms/step - loss: 107.0365\n",
            "Epoch 2/30\n",
            "772/772 [==============================] - 28s 37ms/step - loss: 56.7558\n",
            "Epoch 3/30\n",
            "772/772 [==============================] - 28s 37ms/step - loss: 48.6983\n",
            "Epoch 4/30\n",
            "772/772 [==============================] - 29s 37ms/step - loss: 48.1162\n",
            "Epoch 5/30\n",
            "772/772 [==============================] - 28s 37ms/step - loss: 43.1438\n",
            "Epoch 6/30\n",
            "772/772 [==============================] - 29s 37ms/step - loss: 41.0527\n",
            "Epoch 7/30\n",
            "772/772 [==============================] - 28s 37ms/step - loss: 40.0138\n",
            "Epoch 8/30\n",
            "772/772 [==============================] - 28s 37ms/step - loss: 39.5217\n",
            "Epoch 9/30\n",
            "772/772 [==============================] - 29s 37ms/step - loss: 39.1328\n",
            "Epoch 10/30\n",
            "772/772 [==============================] - 28s 37ms/step - loss: 38.8753\n",
            "Epoch 11/30\n",
            "772/772 [==============================] - 28s 37ms/step - loss: 38.6556\n",
            "Epoch 12/30\n",
            "772/772 [==============================] - 28s 37ms/step - loss: 38.5563\n",
            "Epoch 13/30\n",
            "772/772 [==============================] - 29s 37ms/step - loss: 38.4985\n",
            "Epoch 14/30\n",
            "772/772 [==============================] - 28s 37ms/step - loss: 38.3101\n",
            "Epoch 15/30\n",
            "772/772 [==============================] - 29s 37ms/step - loss: 37.8632\n",
            "Epoch 16/30\n",
            "772/772 [==============================] - 28s 37ms/step - loss: 37.1510\n",
            "Epoch 17/30\n",
            "772/772 [==============================] - 29s 37ms/step - loss: 37.1112\n",
            "Epoch 18/30\n",
            "772/772 [==============================] - 29s 37ms/step - loss: 36.9375\n",
            "Epoch 19/30\n",
            "772/772 [==============================] - 29s 37ms/step - loss: 36.9035\n",
            "Epoch 20/30\n",
            "772/772 [==============================] - 29s 37ms/step - loss: 36.9892\n",
            "Epoch 21/30\n",
            "772/772 [==============================] - 29s 37ms/step - loss: 36.8541\n",
            "Epoch 22/30\n",
            "772/772 [==============================] - 28s 37ms/step - loss: 36.7977\n",
            "Epoch 23/30\n",
            "772/772 [==============================] - 28s 37ms/step - loss: 36.7827\n",
            "Epoch 24/30\n",
            "772/772 [==============================] - 29s 37ms/step - loss: 36.8747\n",
            "Epoch 25/30\n",
            "772/772 [==============================] - 29s 37ms/step - loss: 36.8679\n",
            "Epoch 26/30\n",
            "772/772 [==============================] - 29s 37ms/step - loss: 36.8482\n",
            "Epoch 27/30\n",
            "772/772 [==============================] - 28s 37ms/step - loss: 36.7976\n",
            "Epoch 28/30\n",
            "772/772 [==============================] - 29s 37ms/step - loss: 36.8600\n",
            "Epoch 29/30\n",
            "772/772 [==============================] - 29s 37ms/step - loss: 36.7781\n",
            "Epoch 30/30\n",
            "772/772 [==============================] - 28s 37ms/step - loss: 36.7815\n"
          ],
          "name": "stdout"
        },
        {
          "output_type": "execute_result",
          "data": {
            "text/plain": [
              "<keras.callbacks.History at 0x7f699755ba10>"
            ]
          },
          "metadata": {
            "tags": []
          },
          "execution_count": 56
        }
      ]
    },
    {
      "cell_type": "code",
      "metadata": {
        "colab": {
          "base_uri": "https://localhost:8080/"
        },
        "id": "UCobfZpaGeQo",
        "outputId": "956aba9c-a744-44c7-a097-b1c17647281c"
      },
      "source": [
        "# serialize model to JSON\n",
        "model_json = model.to_json()\n",
        "with open(\"model.json\", \"w\") as json_file:\n",
        "    json_file.write(model_json)\n",
        "# serialize weights to HDF5\n",
        "model.save_weights(\"model.h5\")\n",
        "print(\"Saved model to disk\")"
      ],
      "execution_count": 11,
      "outputs": [
        {
          "output_type": "stream",
          "text": [
            "Saved model to disk\n"
          ],
          "name": "stdout"
        }
      ]
    },
    {
      "cell_type": "code",
      "metadata": {
        "colab": {
          "base_uri": "https://localhost:8080/"
        },
        "id": "DOjvwY6GGrgv",
        "outputId": "02b70219-81c8-4713-8b83-47c9bbef39b7"
      },
      "source": [
        "# load json and create model\n",
        "from keras.models import model_from_json\n",
        "\n",
        "json_file = open('model.json', 'r')\n",
        "loaded_model_json = json_file.read()\n",
        "json_file.close()\n",
        "loaded_model = model_from_json(loaded_model_json)\n",
        "# load weights into new model\n",
        "loaded_model.load_weights(\"model.h5\")\n",
        "print(\"Loaded model from disk\")\n"
      ],
      "execution_count": 13,
      "outputs": [
        {
          "output_type": "stream",
          "text": [
            "Loaded model from disk\n"
          ],
          "name": "stdout"
        }
      ]
    },
    {
      "cell_type": "code",
      "metadata": {
        "id": "AdblW_oBH7vH"
      },
      "source": [
        "model = loaded_model"
      ],
      "execution_count": 14,
      "outputs": []
    },
    {
      "cell_type": "code",
      "metadata": {
        "id": "I03OjV-6Hs1I"
      },
      "source": [
        "from keras import backend as K\n",
        "\n",
        "inp = model.input                                           # input placeholder\n",
        "outputs = [layer.output for layer in model.layers]          # all layer outputs\n",
        "\n",
        "#get output of each layer\n",
        "functors = [K.function([inp], [out]) for out in outputs]    # evaluation functions\n",
        "\n",
        "# Testing\n",
        "#test = np.random.random(input_shape)[np.newaxis,...]\n",
        "test = sequence\n",
        "layer_outs = [func([test]) for func in functors]\n",
        "print (layer_outs)\n"
      ],
      "execution_count": null,
      "outputs": []
    },
    {
      "cell_type": "code",
      "metadata": {
        "colab": {
          "base_uri": "https://localhost:8080/"
        },
        "id": "VrzquxVPKU5P",
        "outputId": "b74bebf5-08a3-4899-a273-a7ff9b45202a"
      },
      "source": [
        "print(\"No of Layers : \",len(layer_outs))\n",
        "print(len(layer_outs[0]))\n",
        "print(len(layer_outs[0][0]))\n",
        "print(len(layer_outs[0][0][0]))\n",
        "print(len(layer_outs[1][0][0]))\n",
        "print(len(layer_outs[2][0][0]))\n",
        "print(len(layer_outs[3][0][0]))"
      ],
      "execution_count": 32,
      "outputs": [
        {
          "output_type": "stream",
          "text": [
            "No of Layers :  4\n",
            "1\n",
            "24678\n",
            "100\n",
            "19\n",
            "19\n",
            "19\n"
          ],
          "name": "stdout"
        }
      ]
    },
    {
      "cell_type": "code",
      "metadata": {
        "colab": {
          "base_uri": "https://localhost:8080/"
        },
        "id": "mzJIPzPWLHmm",
        "outputId": "60b4a224-03a0-4c05-afb4-40c69166bcd7"
      },
      "source": [
        "output = layer_outs[0][0]\n",
        "print(len(output[0]))\n",
        "print(len(output))"
      ],
      "execution_count": 35,
      "outputs": [
        {
          "output_type": "stream",
          "text": [
            "100\n",
            "24678\n"
          ],
          "name": "stdout"
        }
      ]
    },
    {
      "cell_type": "code",
      "metadata": {
        "colab": {
          "base_uri": "https://localhost:8080/"
        },
        "id": "rtrzKHVbLeXe",
        "outputId": "af750459-de35-4e3e-8ac2-3dd8bad8674a"
      },
      "source": [
        "from sklearn.mixture import GaussianMixture\n",
        "gmm = GaussianMixture(n_components=1)\n",
        "gmm.fit(output)"
      ],
      "execution_count": 44,
      "outputs": [
        {
          "output_type": "execute_result",
          "data": {
            "text/plain": [
              "GaussianMixture(covariance_type='full', init_params='kmeans', max_iter=100,\n",
              "                means_init=None, n_components=1, n_init=1, precisions_init=None,\n",
              "                random_state=None, reg_covar=1e-06, tol=0.001, verbose=0,\n",
              "                verbose_interval=10, warm_start=False, weights_init=None)"
            ]
          },
          "metadata": {
            "tags": []
          },
          "execution_count": 44
        }
      ]
    },
    {
      "cell_type": "code",
      "metadata": {
        "colab": {
          "base_uri": "https://localhost:8080/"
        },
        "id": "SRTmgKFtMAvm",
        "outputId": "02eec8f8-5f72-4fe7-83ce-37c6928f1025"
      },
      "source": [
        "# print the converged log-likelihood value\n",
        "print(gmm.lower_bound_)\n",
        "  \n",
        "# print the number of iterations needed\n",
        "# for the log-likelihood value to converge\n",
        "#print(gmm.n_iter_)</div>\n",
        "print(gmm.n_iter_)\n"
      ],
      "execution_count": 41,
      "outputs": [
        {
          "output_type": "stream",
          "text": [
            "137.23825486409353\n",
            "2\n"
          ],
          "name": "stdout"
        }
      ]
    },
    {
      "cell_type": "code",
      "metadata": {
        "colab": {
          "base_uri": "https://localhost:8080/",
          "height": 281
        },
        "id": "EjpGyZsSMiOX",
        "outputId": "10b65ff0-d608-4dda-e101-f5fd0d72f770"
      },
      "source": [
        "import matplotlib.pyplot as plt\n",
        "\n",
        "score = gmm.score_samples(output)\n",
        "plt.plot(score)"
      ],
      "execution_count": 47,
      "outputs": [
        {
          "output_type": "execute_result",
          "data": {
            "text/plain": [
              "[<matplotlib.lines.Line2D at 0x7f6998ccbe50>]"
            ]
          },
          "metadata": {
            "tags": []
          },
          "execution_count": 47
        },
        {
          "output_type": "display_data",
          "data": {
            "image/png": "[encoded data removed]",
            "text/plain": [
              "<Figure size 432x288 with 1 Axes>"
            ]
          },
          "metadata": {
            "tags": [],
            "needs_background": "light"
          }
        }
      ]
    },
    {
      "cell_type": "code",
      "metadata": {
        "id": "-3DuDTZ62iSH"
      },
      "source": [
        ""
      ],
      "execution_count": null,
      "outputs": []
    },
    {
      "cell_type": "markdown",
      "metadata": {
        "id": "3YwLzACfIJEX"
      },
      "source": [
        ""
      ]
    },
    {
      "cell_type": "code",
      "metadata": {
        "id": "x-93uHuuIJ9n"
      },
      "source": [
        "from keras.models import Model\n",
        "\n",
        "out = model.layers[0].output\n",
        "m = Model(inputs = model.input, outputs=out)\n",
        "output = m.predict(sequence)"
      ],
      "execution_count": 48,
      "outputs": []
    },
    {
      "cell_type": "code",
      "metadata": {
        "colab": {
          "base_uri": "https://localhost:8080/"
        },
        "id": "IWnNPcP9Iv2f",
        "outputId": "7e2220b0-3a6d-4e48-9d59-7fe68b96f385"
      },
      "source": [
        "print(len(output[0]))\n",
        "print(len(output))"
      ],
      "execution_count": 49,
      "outputs": [
        {
          "output_type": "stream",
          "text": [
            "100\n",
            "24678\n"
          ],
          "name": "stdout"
        }
      ]
    },
    {
      "cell_type": "code",
      "metadata": {
        "colab": {
          "base_uri": "https://localhost:8080/"
        },
        "id": "HC9e0lZTKzNg",
        "outputId": "ff9c3168-0ecc-45f9-9a5d-8634e1dbce41"
      },
      "source": [
        "gmm = GaussianMixture(n_components=1)\n",
        "gmm.fit(output)"
      ],
      "execution_count": 50,
      "outputs": [
        {
          "output_type": "execute_result",
          "data": {
            "text/plain": [
              "GaussianMixture(covariance_type='full', init_params='kmeans', max_iter=100,\n",
              "                means_init=None, n_components=1, n_init=1, precisions_init=None,\n",
              "                random_state=None, reg_covar=1e-06, tol=0.001, verbose=0,\n",
              "                verbose_interval=10, warm_start=False, weights_init=None)"
            ]
          },
          "metadata": {
            "tags": []
          },
          "execution_count": 50
        }
      ]
    },
    {
      "cell_type": "code",
      "metadata": {
        "colab": {
          "base_uri": "https://localhost:8080/"
        },
        "id": "hJlHNuy2M6z-",
        "outputId": "bace9bee-0d28-45da-faa6-86adea2a78ad"
      },
      "source": [
        "# print the converged log-likelihood value\n",
        "print(gmm.lower_bound_)\n",
        "  \n",
        "# print the number of iterations needed\n",
        "# for the log-likelihood value to converge\n",
        "#print(gmm.n_iter_)</div>\n",
        "print(gmm.n_iter_)"
      ],
      "execution_count": 51,
      "outputs": [
        {
          "output_type": "stream",
          "text": [
            "137.23825484734297\n",
            "2\n"
          ],
          "name": "stdout"
        }
      ]
    },
    {
      "cell_type": "code",
      "metadata": {
        "colab": {
          "base_uri": "https://localhost:8080/",
          "height": 281
        },
        "id": "z2ftkJkDM9Lv",
        "outputId": "a1bf5da0-a360-4cdc-83ef-024784dd5dd4"
      },
      "source": [
        "import matplotlib.pyplot as plt\n",
        "\n",
        "score = gmm.score_samples(output)\n",
        "plt.plot(score)"
      ],
      "execution_count": 52,
      "outputs": [
        {
          "output_type": "execute_result",
          "data": {
            "text/plain": [
              "[<matplotlib.lines.Line2D at 0x7f69987a5f50>]"
            ]
          },
          "metadata": {
            "tags": []
          },
          "execution_count": 52
        },
        {
          "output_type": "display_data",
          "data": {
            "image/png": "[encoded data removed]",
            "text/plain": [
              "<Figure size 432x288 with 1 Axes>"
            ]
          },
          "metadata": {
            "tags": [],
            "needs_background": "light"
          }
        }
      ]
    },
    {
      "cell_type": "code",
      "metadata": {
        "colab": {
          "base_uri": "https://localhost:8080/"
        },
        "id": "IjlVwlelNzgm",
        "outputId": "692e4efa-8458-4eb9-8e7a-f7ae31b2d604"
      },
      "source": [
        "log_likelihood = gmm.score(output)\n",
        "print(log_likelihood)"
      ],
      "execution_count": 54,
      "outputs": [
        {
          "output_type": "stream",
          "text": [
            "137.23825484734297\n"
          ],
          "name": "stdout"
        }
      ]
    }
  ]
}
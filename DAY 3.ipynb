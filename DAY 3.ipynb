{
 "cells": [
  {
   "cell_type": "code",
   "execution_count": 11,
   "metadata": {},
   "outputs": [
    {
     "name": "stdout",
     "output_type": "stream",
     "text": [
      "Subtraction of a= (2+3j) and b= (3+9j) is (-1-6j)\n"
     ]
    }
   ],
   "source": [
    "# Q1) Subtract two complex numbers\n",
    "a=2+3j\n",
    "b=3+9j\n",
    "c=a-b\n",
    "print(\"Subtraction of a=\",a,\"and b=\",b,\"is\",c)"
   ]
  },
  {
   "cell_type": "code",
   "execution_count": 12,
   "metadata": {},
   "outputs": [
    {
     "name": "stdout",
     "output_type": "stream",
     "text": [
      "Fourth root of 16 = 2.0\n"
     ]
    }
   ],
   "source": [
    "# Q2) Find fourth root of a number\n",
    "n=16\n",
    "fourth_root=n**(1/4)\n",
    "print(\"Fourth root of\",n,\"=\",fourth_root)"
   ]
  },
  {
   "cell_type": "code",
   "execution_count": 13,
   "metadata": {},
   "outputs": [
    {
     "name": "stdout",
     "output_type": "stream",
     "text": [
      "Before swapping, a= 2 b= 3\n",
      "After swapping, a= 3 b= 2\n"
     ]
    }
   ],
   "source": [
    "#Q3) Swap two numbers\n",
    "a=2\n",
    "b=3\n",
    "print(\"Before swapping, a=\",a,\"b=\",b)\n",
    "temp=a\n",
    "a=b\n",
    "b=temp\n",
    "print(\"After swapping, a=\",a,\"b=\",b)"
   ]
  },
  {
   "cell_type": "code",
   "execution_count": 16,
   "metadata": {},
   "outputs": [
    {
     "name": "stdout",
     "output_type": "stream",
     "text": [
      "Before swapping, a= 2 b= 3\n",
      "After swapping, a= 3 b= 2\n"
     ]
    }
   ],
   "source": [
    "#Q4)Swap 2 numbers w/o using temp\n",
    "a=2\n",
    "b=3\n",
    "print(\"Before swapping, a=\",a,\"b=\",b)\n",
    "a=a+b  # now a=5\n",
    "b=a-b  # b=5-3=2\n",
    "a=a-b # a= 5-2=3\n",
    "print(\"After swapping, a=\",a,\"b=\",b)"
   ]
  },
  {
   "cell_type": "code",
   "execution_count": 20,
   "metadata": {},
   "outputs": [
    {
     "name": "stdout",
     "output_type": "stream",
     "text": [
      "32 F =  0.0 C\n",
      "0.0 C =  32.0 F\n"
     ]
    }
   ],
   "source": [
    "#Q5) Convert Fahrenheit to celsius\n",
    "Fahrenheit = 32\n",
    "Celsius = (Fahrenheit - 32) * 5.0/9.0\n",
    "print(Fahrenheit,\"F = \",Celsius,\"C\")\n",
    "#Conevert Celcius to Fahrenheit\n",
    "Fahrenheit = 9.0/5.0 * Celsius + 32\n",
    "print(Celsius,\"C = \",Fahrenheit,\"F\")\n"
   ]
  },
  {
   "cell_type": "code",
   "execution_count": 23,
   "metadata": {},
   "outputs": [
    {
     "name": "stdout",
     "output_type": "stream",
     "text": [
      "2 - <class 'int'>\n",
      "2.6 - <class 'float'>\n",
      "(2+8j) - <class 'complex'>\n",
      "Vaishnavi - <class 'str'>\n",
      "['AI', 'ML', 'DL'] - <class 'list'>\n",
      "('AI', 'ML', 'DL') - <class 'tuple'>\n",
      "{'name': 'Vaishnavi', 'age': 19} - <class 'dict'>\n"
     ]
    }
   ],
   "source": [
    "#Q6) Demonstrate all data types in python\n",
    "x = 2\n",
    "print(x,\"-\",type(x))\n",
    "x=2.6\n",
    "print(x,\"-\",type(x))\n",
    "x=2+8j\n",
    "print(x,\"-\",type(x))\n",
    "x=\"Vaishnavi\"\n",
    "print(x,\"-\",type(x))\n",
    "x = [\"AI\", \"ML\", \"DL\"]\n",
    "print(x,\"-\",type(x))\n",
    "x = (\"AI\", \"ML\", \"DL\")\n",
    "print(x,\"-\",type(x))\n",
    "x = {\"name\" : \"Vaishnavi\", \"age\" : 19}\n",
    "print(x,\"-\",type(x))\n"
   ]
  },
  {
   "cell_type": "markdown",
   "metadata": {},
   "source": [
    "# Q7) Steps for Github Assignment Uploading\n",
    "1) Create a github account.<br>\n",
    "2) Click on new.<br>\n",
    "3) Give a name to the repository- LetsUpgrade AI-ML<br>\n",
    "4) Make sure it is public and then click on \"Create Repository\".<br>\n",
    "5) Upload the files daywise.<br>\n",
    "6) Copy the link of this github repository to the google form.<br>\n",
    "## AND IT'S DONE!!"
   ]
  },
  {
   "cell_type": "code",
   "execution_count": 26,
   "metadata": {},
   "outputs": [
    {
     "data": {
      "text/plain": [
       "'C:\\\\Users\\\\VAISHNAVI PATIL'"
      ]
     },
     "execution_count": 26,
     "metadata": {},
     "output_type": "execute_result"
    }
   ],
   "source": [
    "import os\n",
    "os.getcwd()"
   ]
  },
  {
   "cell_type": "code",
   "execution_count": null,
   "metadata": {},
   "outputs": [],
   "source": []
  }
 ],
 "metadata": {
  "kernelspec": {
   "display_name": "Python 3",
   "language": "python",
   "name": "python3"
  },
  "language_info": {
   "codemirror_mode": {
    "name": "ipython",
    "version": 3
   },
   "file_extension": ".py",
   "mimetype": "text/x-python",
   "name": "python",
   "nbconvert_exporter": "python",
   "pygments_lexer": "ipython3",
   "version": "3.7.6"
  }
 },
 "nbformat": 4,
 "nbformat_minor": 4
}

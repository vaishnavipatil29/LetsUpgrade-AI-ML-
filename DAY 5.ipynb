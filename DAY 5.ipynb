{
 "cells": [
  {
   "cell_type": "code",
   "execution_count": 8,
   "metadata": {},
   "outputs": [
    {
     "name": "stdout",
     "output_type": "stream",
     "text": [
      "3\n",
      "5\n",
      "7\n",
      "11\n",
      "13\n",
      "17\n",
      "19\n",
      "23\n",
      "29\n",
      "31\n",
      "37\n",
      "41\n",
      "43\n",
      "47\n",
      "53\n",
      "59\n",
      "61\n",
      "67\n",
      "71\n",
      "73\n"
     ]
    }
   ],
   "source": [
    "#Q1\n",
    "count=0\n",
    "val=3\n",
    "while count!=20:\n",
    "    for n in range(2, val): \n",
    "            if (val % n) == 0: \n",
    "                break\n",
    "            else: \n",
    "                if n == val-1: \n",
    "                    count=count+1\n",
    "                    print(val) \n",
    "    val=val+1\n",
    "    \n",
    "    "
   ]
  },
  {
   "cell_type": "code",
   "execution_count": 1,
   "metadata": {},
   "outputs": [
    {
     "name": "stdout",
     "output_type": "stream",
     "text": [
      "Vaishnavi patil \n",
      "vaishnavi patil \n",
      "VAISHNAVI PATIL \n",
      "False\n",
      "False\n",
      "Vaishnavi Patil \n",
      "1\n",
      "Vaishnavi patil\n",
      "False\n",
      "V#ishn#vi p#til\n",
      "Vaishnavi patil\n",
      "vaishnavi patil\n",
      "False\n",
      "vAISHNAVI PATIL\n",
      "['V', 'ishn', 'vi p', 'til']\n"
     ]
    }
   ],
   "source": [
    "#Q2\n",
    "s=\"Vaishnavi Patil \"\n",
    "#1-\n",
    "s=s.capitalize()\n",
    "print(s)\n",
    "#2\n",
    "\n",
    "print(s.lower())\n",
    "#3\n",
    "\n",
    "print(s.upper())\n",
    "#4\n",
    "print(s.islower())\n",
    "#5\n",
    "print(s.isupper())\n",
    "#6\n",
    "\n",
    "print(s.title())\n",
    "#7\n",
    "print(s.find('a'))\n",
    "#8\n",
    "s=s.strip() #removes space from end and beginning\n",
    "print(s)\n",
    "#9\n",
    "print(s.isalpha())\n",
    "#10\n",
    "\n",
    "print(s.replace('a','#'))\n",
    "#11\n",
    "print(s.format(h=49))\n",
    "#12\n",
    "print(s.casefold())\n",
    "#13\n",
    "print(s.isdigit())\n",
    "#14\n",
    "print(s.swapcase())\n",
    "#15\n",
    "s=s.replace('a','#')\n",
    "print(s.split('#'))\n",
    "\n",
    "\n"
   ]
  },
  {
   "cell_type": "code",
   "execution_count": 7,
   "metadata": {},
   "outputs": [
    {
     "name": "stdout",
     "output_type": "stream",
     "text": [
      "batab\n",
      "The string is palindromic\n",
      "taabb\n",
      "The string is not palindromic\n",
      "The strings are anagrams\n"
     ]
    }
   ],
   "source": [
    "#Q3)\n",
    "def palindrome(s):\n",
    "    s2 = s[::-1]\n",
    "    if s==s2:\n",
    "        print(\"The string is palindromic\") \n",
    "    else:\n",
    "        print(\"The string is not palindromic\")\n",
    "    \n",
    "s1=input()\n",
    "palindrome(s1)\n",
    "s2=input()\n",
    "palindrome(s2)\n",
    "if sorted(s1) == sorted(s2):\n",
    "    print(\"The strings are anagrams\")\n",
    "\n",
    "\n",
    "\n",
    "\n"
   ]
  },
  {
   "cell_type": "code",
   "execution_count": 12,
   "metadata": {},
   "outputs": [
    {
     "name": "stdout",
     "output_type": "stream",
     "text": [
      "\"Dr. Darshan Ingle @AI-ML Trainer\n",
      "drdarshaningleaimltrainer\n"
     ]
    }
   ],
   "source": [
    "#Q4)\n",
    "def func(s):\n",
    "    for i in s:\n",
    "        if i.isalpha()== False:\n",
    "            s=s.replace(i,'')\n",
    "        #print(i.isalpha())\n",
    "    print(s.lower())\n",
    "\n",
    "            \n",
    "s=input()\n",
    "func(s)"
   ]
  },
  {
   "cell_type": "code",
   "execution_count": null,
   "metadata": {},
   "outputs": [],
   "source": []
  }
 ],
 "metadata": {
  "kernelspec": {
   "display_name": "Python 3",
   "language": "python",
   "name": "python3"
  },
  "language_info": {
   "codemirror_mode": {
    "name": "ipython",
    "version": 3
   },
   "file_extension": ".py",
   "mimetype": "text/x-python",
   "name": "python",
   "nbconvert_exporter": "python",
   "pygments_lexer": "ipython3",
   "version": "3.7.6"
  }
 },
 "nbformat": 4,
 "nbformat_minor": 4
}

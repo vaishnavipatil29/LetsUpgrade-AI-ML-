{
 "cells": [
  {
   "cell_type": "code",
   "execution_count": 10,
   "metadata": {},
   "outputs": [
    {
     "name": "stdout",
     "output_type": "stream",
     "text": [
      "Addition: (6+11j)\n",
      "Subtraction: (-2-5j)\n",
      "Multiplication (-16+28j)\n",
      "Divison (0.4-0.05j)\n",
      "Modulo and floor division does not accept complex operands\n"
     ]
    }
   ],
   "source": [
    "# Q1) Operations on complex numbers\n",
    "a=2+3j\n",
    "b=4+8j\n",
    "add=a+b\n",
    "print(\"Addition:\",add)\n",
    "sub=a-b\n",
    "print(\"Subtraction:\",sub)\n",
    "mul=a*b\n",
    "print(\"Multiplication\",mul)\n",
    "div=a/b\n",
    "print(\"Divison\",div)\n",
    "print(\"Modulo and floor division does not accept complex operands\")"
   ]
  },
  {
   "cell_type": "markdown",
   "metadata": {},
   "source": [
    " # Q2) Range()-\n",
    "    1) This function is used to generate a range of integers, given the starting and ending point.\n",
    "    2) Parameters-\n",
    "         1. range(6) -- generates 6 integers starting from 0 -- 0,1,2,3,4,5\n",
    "         2. range(2,8) -- generates integers from 2 to 8. -- 2,3,4,5,6,7\n",
    "         3. range(2,8,3) -- generates integers from 2 to 8 with step 3. -- 2,5"
   ]
  },
  {
   "cell_type": "code",
   "execution_count": 20,
   "metadata": {},
   "outputs": [
    {
     "name": "stdout",
     "output_type": "stream",
     "text": [
      "0 1 2 3 4 5 \n",
      "\n",
      "2 3 4 5 6 7 \n",
      "\n",
      "2 5 "
     ]
    }
   ],
   "source": [
    "#implementing range\n",
    "for i in range(6):\n",
    "    print(i, end=' ')\n",
    "print(\"\\n\")\n",
    "for i in range(2,8):\n",
    "    print(i, end=' ')\n",
    "print(\"\\n\")\n",
    "for i in range(2,8,3):\n",
    "    print(i, end=' ')"
   ]
  },
  {
   "cell_type": "code",
   "execution_count": 22,
   "metadata": {},
   "outputs": [
    {
     "name": "stdout",
     "output_type": "stream",
     "text": [
      "2850\n"
     ]
    }
   ],
   "source": [
    "#Q3)\n",
    "a=95\n",
    "b=30\n",
    "sub =a-b\n",
    "if(sub>25):\n",
    "    print(a*b)\n",
    "else:\n",
    "    print(a/b)\n"
   ]
  },
  {
   "cell_type": "code",
   "execution_count": 23,
   "metadata": {},
   "outputs": [
    {
     "name": "stdout",
     "output_type": "stream",
     "text": [
      "2\n",
      "14\n",
      "34\n",
      "62\n",
      "98\n"
     ]
    }
   ],
   "source": [
    "#Q4)\n",
    "l=[1,2,3,4,5,6,7,8,9,10]\n",
    "for i in l:\n",
    "    if(i%2 == 0):\n",
    "        print((i**2)-2)\n",
    "    "
   ]
  },
  {
   "cell_type": "code",
   "execution_count": 26,
   "metadata": {},
   "outputs": [
    {
     "name": "stdout",
     "output_type": "stream",
     "text": [
      "64\n",
      "46\n",
      "27\n",
      "18\n",
      "100\n"
     ]
    }
   ],
   "source": [
    "l=[1,14,3,64,5,46,27,18,9,100]\n",
    "for i in l:\n",
    "    if((i/2)>7):\n",
    "        print(i)"
   ]
  },
  {
   "cell_type": "code",
   "execution_count": null,
   "metadata": {},
   "outputs": [],
   "source": []
  }
 ],
 "metadata": {
  "kernelspec": {
   "display_name": "Python 3",
   "language": "python",
   "name": "python3"
  },
  "language_info": {
   "codemirror_mode": {
    "name": "ipython",
    "version": 3
   },
   "file_extension": ".py",
   "mimetype": "text/x-python",
   "name": "python",
   "nbconvert_exporter": "python",
   "pygments_lexer": "ipython3",
   "version": "3.7.6"
  }
 },
 "nbformat": 4,
 "nbformat_minor": 4
}

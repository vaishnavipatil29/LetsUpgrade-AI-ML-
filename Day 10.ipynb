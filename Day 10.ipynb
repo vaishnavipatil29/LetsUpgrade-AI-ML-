{
 "cells": [
  {
   "cell_type": "markdown",
   "metadata": {},
   "source": [
    "# Hypothesis\n"
   ]
  },
  {
   "cell_type": "markdown",
   "metadata": {},
   "source": [
    "#### 1) The avearge age of employees that leave the company is 36.\n",
    "\n",
    "H0 : μ= 36.  H1: μ≠36\n",
    "\n",
    "Two-Tail Test, z-test(as std. deviation can be found out by the population data)\n",
    "\n",
    "\n",
    "#### 2) The average monthly income of females in the company is less than or equal to 65,000.\n",
    "\n",
    "H0 : μ<=65,000.  H1: μ>65,000\n",
    "\n",
    "One-tail Test - Right Tail Test\n",
    "\n",
    "\n",
    "#### 3)The average age of employees that travel rarely is less than or equal to 40.\n",
    "\n",
    "H0 : μ<=40.  H1: μ>40\n",
    "\n",
    "One-tail Test - Right Tail Test\n",
    "\n",
    "\n",
    "#### 4) The average Percent Salary Hike for employees in Research & Development Department is greater than or equal to 13.\n",
    "\n",
    "H0 : μ>=13.  H1: μ<13\n",
    "\n",
    "One-tail Test - Left Tail Test\n",
    "\n",
    "\n",
    "#### 5) The average Distance From Home of the employees that leave the compnay is more than 20.\n",
    "\n",
    "H0 : μ= 20.  H1: μ≠20\n",
    "\n",
    "Two-Tail Test, z-test(as std. deviation can be found out by the population data)\n",
    "\n",
    "\n",
    "#### 6) The average Training Times Last Year for males is greater than or equal to 3.\n",
    "\n",
    "H0 : μ>=3.  H1: μ<3\n",
    "\n",
    "One-tail Test - Left Tail Test\n",
    "\n",
    "\n",
    "#### 7) The standard working hours for the employees with Medical Education field is 8.\n",
    "\n",
    "H0 : μ= 8.  H1: μ≠8\n",
    "\n",
    "Two-Tail Test, z-test(as std. deviation can be found out by the population data)\n",
    "\n",
    "\n",
    "#### 8) The average \"Num of Companies Worked\" by the employees who left the company was more than  or equal to 2.\n",
    "\n",
    "H0 : μ>=2.  H1: μ<2\n",
    "\n",
    "One-tail Test - Left Tail Test\n",
    "\n",
    "\n",
    "#### 9) The average Years At Company of males is equal to 5.\n",
    "\n",
    "H0 : μ= 5  H1: μ≠5\n",
    "\n",
    "Two-Tail Test, z-test(as std. deviation can be found out by the population data)\n",
    "\n",
    "\n",
    "#### 10) The average Years Since Last Promotion for the employees who left the company was more than or equal to 3.\n",
    "\n",
    "H0 : μ>=3.  H1: μ<3\n",
    "\n",
    "One-tail Test - Left Tail Test\n"
   ]
  },
  {
   "cell_type": "code",
   "execution_count": null,
   "metadata": {},
   "outputs": [],
   "source": []
  }
 ],
 "metadata": {
  "kernelspec": {
   "display_name": "Python 3",
   "language": "python",
   "name": "python3"
  },
  "language_info": {
   "codemirror_mode": {
    "name": "ipython",
    "version": 3
   },
   "file_extension": ".py",
   "mimetype": "text/x-python",
   "name": "python",
   "nbconvert_exporter": "python",
   "pygments_lexer": "ipython3",
   "version": "3.7.6"
  }
 },
 "nbformat": 4,
 "nbformat_minor": 4
}
